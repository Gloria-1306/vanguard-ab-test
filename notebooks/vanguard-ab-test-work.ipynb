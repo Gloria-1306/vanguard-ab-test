{
 "cells": [
  {
   "cell_type": "code",
   "execution_count": 16,
   "id": "01ffe8c4",
   "metadata": {},
   "outputs": [],
   "source": [
    "import pandas as pd\n",
    "import matplotlib.pyplot as plt\n",
    "import seaborn as sns\n",
    "import numpy as np\n",
    "from function_file import first_analysis\n",
    "# from function_file import cat_stats # not working yet\n",
    "# from function_file import num_stats # not working yet\n",
    "\n",
    "%matplotlib inline\n",
    "# note: when there is a % it is not really python, in this example we tell the system not to open another window when doing \n",
    "# matplotlib"
   ]
  },
  {
   "cell_type": "markdown",
   "id": "5c88ee3a",
   "metadata": {},
   "source": [
    "****** EDA & Data Cleaning ******"
   ]
  },
  {
   "cell_type": "markdown",
   "id": "696d77d5",
   "metadata": {},
   "source": [
    "*** Loading the Dataset ***"
   ]
  },
  {
   "cell_type": "code",
   "execution_count": 2,
   "id": "3cbf4d92",
   "metadata": {},
   "outputs": [],
   "source": [
    "df_demo = pd.read_csv('df_final_demo.txt', delimiter=',') \n",
    "df_exp_clients = pd.read_csv('df_final_experiment_clients.txt', delimiter=',')\n",
    "df_data_pt_1 = pd.read_csv('df_final_web_data_pt_1.txt', delimiter=',')\n",
    "df_data_pt_2 = pd.read_csv('df_final_web_data_pt_2.txt')\n"
   ]
  },
  {
   "cell_type": "markdown",
   "id": "f87e3c89",
   "metadata": {},
   "source": [
    "*** Initial exploration ***"
   ]
  },
  {
   "cell_type": "code",
   "execution_count": 4,
   "id": "493334c4",
   "metadata": {},
   "outputs": [
    {
     "data": {
      "text/html": [
       "<div>\n",
       "<style scoped>\n",
       "    .dataframe tbody tr th:only-of-type {\n",
       "        vertical-align: middle;\n",
       "    }\n",
       "\n",
       "    .dataframe tbody tr th {\n",
       "        vertical-align: top;\n",
       "    }\n",
       "\n",
       "    .dataframe thead th {\n",
       "        text-align: right;\n",
       "    }\n",
       "</style>\n",
       "<table border=\"1\" class=\"dataframe\">\n",
       "  <thead>\n",
       "    <tr style=\"text-align: right;\">\n",
       "      <th></th>\n",
       "      <th>client_id</th>\n",
       "      <th>clnt_tenure_yr</th>\n",
       "      <th>clnt_tenure_mnth</th>\n",
       "      <th>clnt_age</th>\n",
       "      <th>gendr</th>\n",
       "      <th>num_accts</th>\n",
       "      <th>bal</th>\n",
       "      <th>calls_6_mnth</th>\n",
       "      <th>logons_6_mnth</th>\n",
       "    </tr>\n",
       "  </thead>\n",
       "  <tbody>\n",
       "    <tr>\n",
       "      <th>0</th>\n",
       "      <td>836976</td>\n",
       "      <td>6.0</td>\n",
       "      <td>73.0</td>\n",
       "      <td>60.5</td>\n",
       "      <td>U</td>\n",
       "      <td>2.0</td>\n",
       "      <td>45105.30</td>\n",
       "      <td>6.0</td>\n",
       "      <td>9.0</td>\n",
       "    </tr>\n",
       "    <tr>\n",
       "      <th>1</th>\n",
       "      <td>2304905</td>\n",
       "      <td>7.0</td>\n",
       "      <td>94.0</td>\n",
       "      <td>58.0</td>\n",
       "      <td>U</td>\n",
       "      <td>2.0</td>\n",
       "      <td>110860.30</td>\n",
       "      <td>6.0</td>\n",
       "      <td>9.0</td>\n",
       "    </tr>\n",
       "    <tr>\n",
       "      <th>2</th>\n",
       "      <td>1439522</td>\n",
       "      <td>5.0</td>\n",
       "      <td>64.0</td>\n",
       "      <td>32.0</td>\n",
       "      <td>U</td>\n",
       "      <td>2.0</td>\n",
       "      <td>52467.79</td>\n",
       "      <td>6.0</td>\n",
       "      <td>9.0</td>\n",
       "    </tr>\n",
       "    <tr>\n",
       "      <th>3</th>\n",
       "      <td>1562045</td>\n",
       "      <td>16.0</td>\n",
       "      <td>198.0</td>\n",
       "      <td>49.0</td>\n",
       "      <td>M</td>\n",
       "      <td>2.0</td>\n",
       "      <td>67454.65</td>\n",
       "      <td>3.0</td>\n",
       "      <td>6.0</td>\n",
       "    </tr>\n",
       "    <tr>\n",
       "      <th>4</th>\n",
       "      <td>5126305</td>\n",
       "      <td>12.0</td>\n",
       "      <td>145.0</td>\n",
       "      <td>33.0</td>\n",
       "      <td>F</td>\n",
       "      <td>2.0</td>\n",
       "      <td>103671.75</td>\n",
       "      <td>0.0</td>\n",
       "      <td>3.0</td>\n",
       "    </tr>\n",
       "  </tbody>\n",
       "</table>\n",
       "</div>"
      ],
      "text/plain": [
       "   client_id  clnt_tenure_yr  clnt_tenure_mnth  clnt_age gendr  num_accts  \\\n",
       "0     836976             6.0              73.0      60.5     U        2.0   \n",
       "1    2304905             7.0              94.0      58.0     U        2.0   \n",
       "2    1439522             5.0              64.0      32.0     U        2.0   \n",
       "3    1562045            16.0             198.0      49.0     M        2.0   \n",
       "4    5126305            12.0             145.0      33.0     F        2.0   \n",
       "\n",
       "         bal  calls_6_mnth  logons_6_mnth  \n",
       "0   45105.30           6.0            9.0  \n",
       "1  110860.30           6.0            9.0  \n",
       "2   52467.79           6.0            9.0  \n",
       "3   67454.65           3.0            6.0  \n",
       "4  103671.75           0.0            3.0  "
      ]
     },
     "metadata": {},
     "output_type": "display_data"
    },
    {
     "data": {
      "text/plain": [
       "Index(['client_id', 'clnt_tenure_yr', 'clnt_tenure_mnth', 'clnt_age', 'gendr',\n",
       "       'num_accts', 'bal', 'calls_6_mnth', 'logons_6_mnth'],\n",
       "      dtype='object')"
      ]
     },
     "metadata": {},
     "output_type": "display_data"
    },
    {
     "data": {
      "text/plain": [
       "'shape: (70609, 9)'"
      ]
     },
     "metadata": {},
     "output_type": "display_data"
    },
    {
     "data": {
      "text/plain": [
       "client_id             int64\n",
       "clnt_tenure_yr      float64\n",
       "clnt_tenure_mnth    float64\n",
       "clnt_age            float64\n",
       "gendr                object\n",
       "num_accts           float64\n",
       "bal                 float64\n",
       "calls_6_mnth        float64\n",
       "logons_6_mnth       float64\n",
       "dtype: object"
      ]
     },
     "metadata": {},
     "output_type": "display_data"
    },
    {
     "name": "stdout",
     "output_type": "stream",
     "text": [
      "Looking for null values: \n",
      "clnt_age            15\n",
      "clnt_tenure_yr      14\n",
      "clnt_tenure_mnth    14\n",
      "gendr               14\n",
      "num_accts           14\n",
      "bal                 14\n",
      "calls_6_mnth        14\n",
      "logons_6_mnth       14\n",
      "client_id            0\n",
      "dtype: int64\n"
     ]
    }
   ],
   "source": [
    "first_analysis(df_demo) # using the file from our .py file"
   ]
  },
  {
   "cell_type": "code",
   "execution_count": 5,
   "id": "e1cd1ede",
   "metadata": {},
   "outputs": [
    {
     "data": {
      "text/html": [
       "<div>\n",
       "<style scoped>\n",
       "    .dataframe tbody tr th:only-of-type {\n",
       "        vertical-align: middle;\n",
       "    }\n",
       "\n",
       "    .dataframe tbody tr th {\n",
       "        vertical-align: top;\n",
       "    }\n",
       "\n",
       "    .dataframe thead th {\n",
       "        text-align: right;\n",
       "    }\n",
       "</style>\n",
       "<table border=\"1\" class=\"dataframe\">\n",
       "  <thead>\n",
       "    <tr style=\"text-align: right;\">\n",
       "      <th></th>\n",
       "      <th>client_id</th>\n",
       "      <th>Variation</th>\n",
       "    </tr>\n",
       "  </thead>\n",
       "  <tbody>\n",
       "    <tr>\n",
       "      <th>0</th>\n",
       "      <td>9988021</td>\n",
       "      <td>Test</td>\n",
       "    </tr>\n",
       "    <tr>\n",
       "      <th>1</th>\n",
       "      <td>8320017</td>\n",
       "      <td>Test</td>\n",
       "    </tr>\n",
       "    <tr>\n",
       "      <th>2</th>\n",
       "      <td>4033851</td>\n",
       "      <td>Control</td>\n",
       "    </tr>\n",
       "    <tr>\n",
       "      <th>3</th>\n",
       "      <td>1982004</td>\n",
       "      <td>Test</td>\n",
       "    </tr>\n",
       "    <tr>\n",
       "      <th>4</th>\n",
       "      <td>9294070</td>\n",
       "      <td>Control</td>\n",
       "    </tr>\n",
       "  </tbody>\n",
       "</table>\n",
       "</div>"
      ],
      "text/plain": [
       "   client_id Variation\n",
       "0    9988021      Test\n",
       "1    8320017      Test\n",
       "2    4033851   Control\n",
       "3    1982004      Test\n",
       "4    9294070   Control"
      ]
     },
     "metadata": {},
     "output_type": "display_data"
    },
    {
     "data": {
      "text/plain": [
       "Index(['client_id', 'Variation'], dtype='object')"
      ]
     },
     "metadata": {},
     "output_type": "display_data"
    },
    {
     "data": {
      "text/plain": [
       "'shape: (70609, 2)'"
      ]
     },
     "metadata": {},
     "output_type": "display_data"
    },
    {
     "data": {
      "text/plain": [
       "client_id     int64\n",
       "Variation    object\n",
       "dtype: object"
      ]
     },
     "metadata": {},
     "output_type": "display_data"
    },
    {
     "name": "stdout",
     "output_type": "stream",
     "text": [
      "Looking for null values: \n",
      "Variation    20109\n",
      "client_id        0\n",
      "dtype: int64\n"
     ]
    }
   ],
   "source": [
    "first_analysis(df_exp_clients)"
   ]
  },
  {
   "cell_type": "code",
   "execution_count": 6,
   "id": "9b50739b",
   "metadata": {},
   "outputs": [
    {
     "data": {
      "text/html": [
       "<div>\n",
       "<style scoped>\n",
       "    .dataframe tbody tr th:only-of-type {\n",
       "        vertical-align: middle;\n",
       "    }\n",
       "\n",
       "    .dataframe tbody tr th {\n",
       "        vertical-align: top;\n",
       "    }\n",
       "\n",
       "    .dataframe thead th {\n",
       "        text-align: right;\n",
       "    }\n",
       "</style>\n",
       "<table border=\"1\" class=\"dataframe\">\n",
       "  <thead>\n",
       "    <tr style=\"text-align: right;\">\n",
       "      <th></th>\n",
       "      <th>client_id</th>\n",
       "      <th>visitor_id</th>\n",
       "      <th>visit_id</th>\n",
       "      <th>process_step</th>\n",
       "      <th>date_time</th>\n",
       "    </tr>\n",
       "  </thead>\n",
       "  <tbody>\n",
       "    <tr>\n",
       "      <th>0</th>\n",
       "      <td>9988021</td>\n",
       "      <td>580560515_7732621733</td>\n",
       "      <td>781255054_21935453173_531117</td>\n",
       "      <td>step_3</td>\n",
       "      <td>2017-04-17 15:27:07</td>\n",
       "    </tr>\n",
       "    <tr>\n",
       "      <th>1</th>\n",
       "      <td>9988021</td>\n",
       "      <td>580560515_7732621733</td>\n",
       "      <td>781255054_21935453173_531117</td>\n",
       "      <td>step_2</td>\n",
       "      <td>2017-04-17 15:26:51</td>\n",
       "    </tr>\n",
       "    <tr>\n",
       "      <th>2</th>\n",
       "      <td>9988021</td>\n",
       "      <td>580560515_7732621733</td>\n",
       "      <td>781255054_21935453173_531117</td>\n",
       "      <td>step_3</td>\n",
       "      <td>2017-04-17 15:19:22</td>\n",
       "    </tr>\n",
       "    <tr>\n",
       "      <th>3</th>\n",
       "      <td>9988021</td>\n",
       "      <td>580560515_7732621733</td>\n",
       "      <td>781255054_21935453173_531117</td>\n",
       "      <td>step_2</td>\n",
       "      <td>2017-04-17 15:19:13</td>\n",
       "    </tr>\n",
       "    <tr>\n",
       "      <th>4</th>\n",
       "      <td>9988021</td>\n",
       "      <td>580560515_7732621733</td>\n",
       "      <td>781255054_21935453173_531117</td>\n",
       "      <td>step_3</td>\n",
       "      <td>2017-04-17 15:18:04</td>\n",
       "    </tr>\n",
       "  </tbody>\n",
       "</table>\n",
       "</div>"
      ],
      "text/plain": [
       "   client_id            visitor_id                      visit_id process_step  \\\n",
       "0    9988021  580560515_7732621733  781255054_21935453173_531117       step_3   \n",
       "1    9988021  580560515_7732621733  781255054_21935453173_531117       step_2   \n",
       "2    9988021  580560515_7732621733  781255054_21935453173_531117       step_3   \n",
       "3    9988021  580560515_7732621733  781255054_21935453173_531117       step_2   \n",
       "4    9988021  580560515_7732621733  781255054_21935453173_531117       step_3   \n",
       "\n",
       "             date_time  \n",
       "0  2017-04-17 15:27:07  \n",
       "1  2017-04-17 15:26:51  \n",
       "2  2017-04-17 15:19:22  \n",
       "3  2017-04-17 15:19:13  \n",
       "4  2017-04-17 15:18:04  "
      ]
     },
     "metadata": {},
     "output_type": "display_data"
    },
    {
     "data": {
      "text/plain": [
       "Index(['client_id', 'visitor_id', 'visit_id', 'process_step', 'date_time'], dtype='object')"
      ]
     },
     "metadata": {},
     "output_type": "display_data"
    },
    {
     "data": {
      "text/plain": [
       "'shape: (343141, 5)'"
      ]
     },
     "metadata": {},
     "output_type": "display_data"
    },
    {
     "data": {
      "text/plain": [
       "client_id        int64\n",
       "visitor_id      object\n",
       "visit_id        object\n",
       "process_step    object\n",
       "date_time       object\n",
       "dtype: object"
      ]
     },
     "metadata": {},
     "output_type": "display_data"
    },
    {
     "name": "stdout",
     "output_type": "stream",
     "text": [
      "Looking for null values: \n",
      "client_id       0\n",
      "visitor_id      0\n",
      "visit_id        0\n",
      "process_step    0\n",
      "date_time       0\n",
      "dtype: int64\n"
     ]
    },
    {
     "data": {
      "text/html": [
       "<div>\n",
       "<style scoped>\n",
       "    .dataframe tbody tr th:only-of-type {\n",
       "        vertical-align: middle;\n",
       "    }\n",
       "\n",
       "    .dataframe tbody tr th {\n",
       "        vertical-align: top;\n",
       "    }\n",
       "\n",
       "    .dataframe thead th {\n",
       "        text-align: right;\n",
       "    }\n",
       "</style>\n",
       "<table border=\"1\" class=\"dataframe\">\n",
       "  <thead>\n",
       "    <tr style=\"text-align: right;\">\n",
       "      <th></th>\n",
       "      <th>client_id</th>\n",
       "      <th>visitor_id</th>\n",
       "      <th>visit_id</th>\n",
       "      <th>process_step</th>\n",
       "      <th>date_time</th>\n",
       "    </tr>\n",
       "  </thead>\n",
       "  <tbody>\n",
       "    <tr>\n",
       "      <th>0</th>\n",
       "      <td>763412</td>\n",
       "      <td>601952081_10457207388</td>\n",
       "      <td>397475557_40440946728_419634</td>\n",
       "      <td>confirm</td>\n",
       "      <td>2017-06-06 08:56:00</td>\n",
       "    </tr>\n",
       "    <tr>\n",
       "      <th>1</th>\n",
       "      <td>6019349</td>\n",
       "      <td>442094451_91531546617</td>\n",
       "      <td>154620534_35331068705_522317</td>\n",
       "      <td>confirm</td>\n",
       "      <td>2017-06-01 11:59:27</td>\n",
       "    </tr>\n",
       "    <tr>\n",
       "      <th>2</th>\n",
       "      <td>6019349</td>\n",
       "      <td>442094451_91531546617</td>\n",
       "      <td>154620534_35331068705_522317</td>\n",
       "      <td>step_3</td>\n",
       "      <td>2017-06-01 11:58:48</td>\n",
       "    </tr>\n",
       "    <tr>\n",
       "      <th>3</th>\n",
       "      <td>6019349</td>\n",
       "      <td>442094451_91531546617</td>\n",
       "      <td>154620534_35331068705_522317</td>\n",
       "      <td>step_2</td>\n",
       "      <td>2017-06-01 11:58:08</td>\n",
       "    </tr>\n",
       "    <tr>\n",
       "      <th>4</th>\n",
       "      <td>6019349</td>\n",
       "      <td>442094451_91531546617</td>\n",
       "      <td>154620534_35331068705_522317</td>\n",
       "      <td>step_1</td>\n",
       "      <td>2017-06-01 11:57:58</td>\n",
       "    </tr>\n",
       "  </tbody>\n",
       "</table>\n",
       "</div>"
      ],
      "text/plain": [
       "   client_id             visitor_id                      visit_id  \\\n",
       "0     763412  601952081_10457207388  397475557_40440946728_419634   \n",
       "1    6019349  442094451_91531546617  154620534_35331068705_522317   \n",
       "2    6019349  442094451_91531546617  154620534_35331068705_522317   \n",
       "3    6019349  442094451_91531546617  154620534_35331068705_522317   \n",
       "4    6019349  442094451_91531546617  154620534_35331068705_522317   \n",
       "\n",
       "  process_step            date_time  \n",
       "0      confirm  2017-06-06 08:56:00  \n",
       "1      confirm  2017-06-01 11:59:27  \n",
       "2       step_3  2017-06-01 11:58:48  \n",
       "3       step_2  2017-06-01 11:58:08  \n",
       "4       step_1  2017-06-01 11:57:58  "
      ]
     },
     "metadata": {},
     "output_type": "display_data"
    },
    {
     "data": {
      "text/plain": [
       "Index(['client_id', 'visitor_id', 'visit_id', 'process_step', 'date_time'], dtype='object')"
      ]
     },
     "metadata": {},
     "output_type": "display_data"
    },
    {
     "data": {
      "text/plain": [
       "'shape: (412264, 5)'"
      ]
     },
     "metadata": {},
     "output_type": "display_data"
    },
    {
     "data": {
      "text/plain": [
       "client_id        int64\n",
       "visitor_id      object\n",
       "visit_id        object\n",
       "process_step    object\n",
       "date_time       object\n",
       "dtype: object"
      ]
     },
     "metadata": {},
     "output_type": "display_data"
    },
    {
     "name": "stdout",
     "output_type": "stream",
     "text": [
      "Looking for null values: \n",
      "client_id       0\n",
      "visitor_id      0\n",
      "visit_id        0\n",
      "process_step    0\n",
      "date_time       0\n",
      "dtype: int64\n"
     ]
    }
   ],
   "source": [
    "first_analysis(df_data_pt_1)\n",
    "first_analysis(df_data_pt_2)"
   ]
  },
  {
   "cell_type": "code",
   "execution_count": 7,
   "id": "84271d43",
   "metadata": {},
   "outputs": [],
   "source": [
    "# Conclusions: all the data types seem to be properly defined, from the 4 tables, all have client_id, we could:\n",
    "# merge the two with 70609 lines together on the client_id, and concatenate the 2 others\n",
    "# some missing values 14-15 in the clients details, still to keep the data so far\n",
    "# what is the use of visitor_id vs visit_id + client_id\n",
    "# to check for duplicates"
   ]
  },
  {
   "cell_type": "markdown",
   "id": "788ae6e1",
   "metadata": {},
   "source": [
    "*** Exploring numerical and categorical variables ***"
   ]
  },
  {
   "cell_type": "markdown",
   "id": "ab0e4824",
   "metadata": {},
   "source": [
    "** Preparing the data **"
   ]
  },
  {
   "cell_type": "code",
   "execution_count": 8,
   "id": "450a53d0",
   "metadata": {},
   "outputs": [],
   "source": [
    "# A to merge the two first files on client_id, and check the data (nulls, columns...) => to remove the 'useless columns'\n",
    "# possibly to convert the numerical ones in int instead of float if needed\n",
    "# B to concat the two last files on top of each other and check for duplicates... before organising the categories"
   ]
  },
  {
   "cell_type": "code",
   "execution_count": 9,
   "id": "8792d9d0",
   "metadata": {},
   "outputs": [
    {
     "data": {
      "text/html": [
       "<div>\n",
       "<style scoped>\n",
       "    .dataframe tbody tr th:only-of-type {\n",
       "        vertical-align: middle;\n",
       "    }\n",
       "\n",
       "    .dataframe tbody tr th {\n",
       "        vertical-align: top;\n",
       "    }\n",
       "\n",
       "    .dataframe thead th {\n",
       "        text-align: right;\n",
       "    }\n",
       "</style>\n",
       "<table border=\"1\" class=\"dataframe\">\n",
       "  <thead>\n",
       "    <tr style=\"text-align: right;\">\n",
       "      <th></th>\n",
       "      <th>client_id</th>\n",
       "      <th>Variation</th>\n",
       "      <th>clnt_tenure_yr</th>\n",
       "      <th>clnt_tenure_mnth</th>\n",
       "      <th>clnt_age</th>\n",
       "      <th>gendr</th>\n",
       "      <th>num_accts</th>\n",
       "      <th>bal</th>\n",
       "      <th>calls_6_mnth</th>\n",
       "      <th>logons_6_mnth</th>\n",
       "    </tr>\n",
       "  </thead>\n",
       "  <tbody>\n",
       "    <tr>\n",
       "      <th>0</th>\n",
       "      <td>9988021</td>\n",
       "      <td>Test</td>\n",
       "      <td>5.0</td>\n",
       "      <td>64.0</td>\n",
       "      <td>79.0</td>\n",
       "      <td>U</td>\n",
       "      <td>2.0</td>\n",
       "      <td>189023.86</td>\n",
       "      <td>1.0</td>\n",
       "      <td>4.0</td>\n",
       "    </tr>\n",
       "    <tr>\n",
       "      <th>1</th>\n",
       "      <td>8320017</td>\n",
       "      <td>Test</td>\n",
       "      <td>22.0</td>\n",
       "      <td>274.0</td>\n",
       "      <td>34.5</td>\n",
       "      <td>M</td>\n",
       "      <td>2.0</td>\n",
       "      <td>36001.90</td>\n",
       "      <td>5.0</td>\n",
       "      <td>8.0</td>\n",
       "    </tr>\n",
       "    <tr>\n",
       "      <th>2</th>\n",
       "      <td>4033851</td>\n",
       "      <td>Control</td>\n",
       "      <td>12.0</td>\n",
       "      <td>149.0</td>\n",
       "      <td>63.5</td>\n",
       "      <td>M</td>\n",
       "      <td>2.0</td>\n",
       "      <td>142642.26</td>\n",
       "      <td>5.0</td>\n",
       "      <td>8.0</td>\n",
       "    </tr>\n",
       "    <tr>\n",
       "      <th>3</th>\n",
       "      <td>1982004</td>\n",
       "      <td>Test</td>\n",
       "      <td>6.0</td>\n",
       "      <td>80.0</td>\n",
       "      <td>44.5</td>\n",
       "      <td>U</td>\n",
       "      <td>2.0</td>\n",
       "      <td>30231.76</td>\n",
       "      <td>1.0</td>\n",
       "      <td>4.0</td>\n",
       "    </tr>\n",
       "    <tr>\n",
       "      <th>4</th>\n",
       "      <td>9294070</td>\n",
       "      <td>Control</td>\n",
       "      <td>5.0</td>\n",
       "      <td>70.0</td>\n",
       "      <td>29.0</td>\n",
       "      <td>U</td>\n",
       "      <td>2.0</td>\n",
       "      <td>34254.54</td>\n",
       "      <td>0.0</td>\n",
       "      <td>3.0</td>\n",
       "    </tr>\n",
       "    <tr>\n",
       "      <th>...</th>\n",
       "      <td>...</td>\n",
       "      <td>...</td>\n",
       "      <td>...</td>\n",
       "      <td>...</td>\n",
       "      <td>...</td>\n",
       "      <td>...</td>\n",
       "      <td>...</td>\n",
       "      <td>...</td>\n",
       "      <td>...</td>\n",
       "      <td>...</td>\n",
       "    </tr>\n",
       "    <tr>\n",
       "      <th>70604</th>\n",
       "      <td>2443347</td>\n",
       "      <td>NaN</td>\n",
       "      <td>17.0</td>\n",
       "      <td>204.0</td>\n",
       "      <td>52.5</td>\n",
       "      <td>M</td>\n",
       "      <td>3.0</td>\n",
       "      <td>164693.48</td>\n",
       "      <td>7.0</td>\n",
       "      <td>7.0</td>\n",
       "    </tr>\n",
       "    <tr>\n",
       "      <th>70605</th>\n",
       "      <td>8788427</td>\n",
       "      <td>NaN</td>\n",
       "      <td>10.0</td>\n",
       "      <td>121.0</td>\n",
       "      <td>59.5</td>\n",
       "      <td>M</td>\n",
       "      <td>2.0</td>\n",
       "      <td>203149.13</td>\n",
       "      <td>3.0</td>\n",
       "      <td>3.0</td>\n",
       "    </tr>\n",
       "    <tr>\n",
       "      <th>70606</th>\n",
       "      <td>266828</td>\n",
       "      <td>NaN</td>\n",
       "      <td>14.0</td>\n",
       "      <td>172.0</td>\n",
       "      <td>60.5</td>\n",
       "      <td>M</td>\n",
       "      <td>2.0</td>\n",
       "      <td>1135068.68</td>\n",
       "      <td>7.0</td>\n",
       "      <td>7.0</td>\n",
       "    </tr>\n",
       "    <tr>\n",
       "      <th>70607</th>\n",
       "      <td>1266421</td>\n",
       "      <td>NaN</td>\n",
       "      <td>13.0</td>\n",
       "      <td>164.0</td>\n",
       "      <td>33.0</td>\n",
       "      <td>M</td>\n",
       "      <td>3.0</td>\n",
       "      <td>27701.79</td>\n",
       "      <td>2.0</td>\n",
       "      <td>3.0</td>\n",
       "    </tr>\n",
       "    <tr>\n",
       "      <th>70608</th>\n",
       "      <td>9895983</td>\n",
       "      <td>NaN</td>\n",
       "      <td>10.0</td>\n",
       "      <td>121.0</td>\n",
       "      <td>49.0</td>\n",
       "      <td>M</td>\n",
       "      <td>2.0</td>\n",
       "      <td>97748.22</td>\n",
       "      <td>2.0</td>\n",
       "      <td>2.0</td>\n",
       "    </tr>\n",
       "  </tbody>\n",
       "</table>\n",
       "<p>70609 rows × 10 columns</p>\n",
       "</div>"
      ],
      "text/plain": [
       "       client_id Variation  clnt_tenure_yr  clnt_tenure_mnth  clnt_age gendr  \\\n",
       "0        9988021      Test             5.0              64.0      79.0     U   \n",
       "1        8320017      Test            22.0             274.0      34.5     M   \n",
       "2        4033851   Control            12.0             149.0      63.5     M   \n",
       "3        1982004      Test             6.0              80.0      44.5     U   \n",
       "4        9294070   Control             5.0              70.0      29.0     U   \n",
       "...          ...       ...             ...               ...       ...   ...   \n",
       "70604    2443347       NaN            17.0             204.0      52.5     M   \n",
       "70605    8788427       NaN            10.0             121.0      59.5     M   \n",
       "70606     266828       NaN            14.0             172.0      60.5     M   \n",
       "70607    1266421       NaN            13.0             164.0      33.0     M   \n",
       "70608    9895983       NaN            10.0             121.0      49.0     M   \n",
       "\n",
       "       num_accts         bal  calls_6_mnth  logons_6_mnth  \n",
       "0            2.0   189023.86           1.0            4.0  \n",
       "1            2.0    36001.90           5.0            8.0  \n",
       "2            2.0   142642.26           5.0            8.0  \n",
       "3            2.0    30231.76           1.0            4.0  \n",
       "4            2.0    34254.54           0.0            3.0  \n",
       "...          ...         ...           ...            ...  \n",
       "70604        3.0   164693.48           7.0            7.0  \n",
       "70605        2.0   203149.13           3.0            3.0  \n",
       "70606        2.0  1135068.68           7.0            7.0  \n",
       "70607        3.0    27701.79           2.0            3.0  \n",
       "70608        2.0    97748.22           2.0            2.0  \n",
       "\n",
       "[70609 rows x 10 columns]"
      ]
     },
     "metadata": {},
     "output_type": "display_data"
    },
    {
     "data": {
      "text/html": [
       "<div>\n",
       "<style scoped>\n",
       "    .dataframe tbody tr th:only-of-type {\n",
       "        vertical-align: middle;\n",
       "    }\n",
       "\n",
       "    .dataframe tbody tr th {\n",
       "        vertical-align: top;\n",
       "    }\n",
       "\n",
       "    .dataframe thead th {\n",
       "        text-align: right;\n",
       "    }\n",
       "</style>\n",
       "<table border=\"1\" class=\"dataframe\">\n",
       "  <thead>\n",
       "    <tr style=\"text-align: right;\">\n",
       "      <th></th>\n",
       "      <th>client_id</th>\n",
       "      <th>visitor_id</th>\n",
       "      <th>visit_id</th>\n",
       "      <th>process_step</th>\n",
       "      <th>date_time</th>\n",
       "    </tr>\n",
       "  </thead>\n",
       "  <tbody>\n",
       "    <tr>\n",
       "      <th>0</th>\n",
       "      <td>9988021</td>\n",
       "      <td>580560515_7732621733</td>\n",
       "      <td>781255054_21935453173_531117</td>\n",
       "      <td>step_3</td>\n",
       "      <td>2017-04-17 15:27:07</td>\n",
       "    </tr>\n",
       "    <tr>\n",
       "      <th>1</th>\n",
       "      <td>9988021</td>\n",
       "      <td>580560515_7732621733</td>\n",
       "      <td>781255054_21935453173_531117</td>\n",
       "      <td>step_2</td>\n",
       "      <td>2017-04-17 15:26:51</td>\n",
       "    </tr>\n",
       "    <tr>\n",
       "      <th>2</th>\n",
       "      <td>9988021</td>\n",
       "      <td>580560515_7732621733</td>\n",
       "      <td>781255054_21935453173_531117</td>\n",
       "      <td>step_3</td>\n",
       "      <td>2017-04-17 15:19:22</td>\n",
       "    </tr>\n",
       "    <tr>\n",
       "      <th>3</th>\n",
       "      <td>9988021</td>\n",
       "      <td>580560515_7732621733</td>\n",
       "      <td>781255054_21935453173_531117</td>\n",
       "      <td>step_2</td>\n",
       "      <td>2017-04-17 15:19:13</td>\n",
       "    </tr>\n",
       "    <tr>\n",
       "      <th>4</th>\n",
       "      <td>9988021</td>\n",
       "      <td>580560515_7732621733</td>\n",
       "      <td>781255054_21935453173_531117</td>\n",
       "      <td>step_3</td>\n",
       "      <td>2017-04-17 15:18:04</td>\n",
       "    </tr>\n",
       "    <tr>\n",
       "      <th>...</th>\n",
       "      <td>...</td>\n",
       "      <td>...</td>\n",
       "      <td>...</td>\n",
       "      <td>...</td>\n",
       "      <td>...</td>\n",
       "    </tr>\n",
       "    <tr>\n",
       "      <th>412259</th>\n",
       "      <td>9668240</td>\n",
       "      <td>388766751_9038881013</td>\n",
       "      <td>922267647_3096648104_968866</td>\n",
       "      <td>start</td>\n",
       "      <td>2017-05-24 18:46:10</td>\n",
       "    </tr>\n",
       "    <tr>\n",
       "      <th>412260</th>\n",
       "      <td>9668240</td>\n",
       "      <td>388766751_9038881013</td>\n",
       "      <td>922267647_3096648104_968866</td>\n",
       "      <td>start</td>\n",
       "      <td>2017-05-24 18:45:29</td>\n",
       "    </tr>\n",
       "    <tr>\n",
       "      <th>412261</th>\n",
       "      <td>9668240</td>\n",
       "      <td>388766751_9038881013</td>\n",
       "      <td>922267647_3096648104_968866</td>\n",
       "      <td>step_1</td>\n",
       "      <td>2017-05-24 18:44:51</td>\n",
       "    </tr>\n",
       "    <tr>\n",
       "      <th>412262</th>\n",
       "      <td>9668240</td>\n",
       "      <td>388766751_9038881013</td>\n",
       "      <td>922267647_3096648104_968866</td>\n",
       "      <td>start</td>\n",
       "      <td>2017-05-24 18:44:34</td>\n",
       "    </tr>\n",
       "    <tr>\n",
       "      <th>412263</th>\n",
       "      <td>674799</td>\n",
       "      <td>947159805_81558194550</td>\n",
       "      <td>86152093_47511127657_716022</td>\n",
       "      <td>start</td>\n",
       "      <td>2017-06-03 12:17:09</td>\n",
       "    </tr>\n",
       "  </tbody>\n",
       "</table>\n",
       "<p>755405 rows × 5 columns</p>\n",
       "</div>"
      ],
      "text/plain": [
       "        client_id             visitor_id                      visit_id  \\\n",
       "0         9988021   580560515_7732621733  781255054_21935453173_531117   \n",
       "1         9988021   580560515_7732621733  781255054_21935453173_531117   \n",
       "2         9988021   580560515_7732621733  781255054_21935453173_531117   \n",
       "3         9988021   580560515_7732621733  781255054_21935453173_531117   \n",
       "4         9988021   580560515_7732621733  781255054_21935453173_531117   \n",
       "...           ...                    ...                           ...   \n",
       "412259    9668240   388766751_9038881013   922267647_3096648104_968866   \n",
       "412260    9668240   388766751_9038881013   922267647_3096648104_968866   \n",
       "412261    9668240   388766751_9038881013   922267647_3096648104_968866   \n",
       "412262    9668240   388766751_9038881013   922267647_3096648104_968866   \n",
       "412263     674799  947159805_81558194550   86152093_47511127657_716022   \n",
       "\n",
       "       process_step            date_time  \n",
       "0            step_3  2017-04-17 15:27:07  \n",
       "1            step_2  2017-04-17 15:26:51  \n",
       "2            step_3  2017-04-17 15:19:22  \n",
       "3            step_2  2017-04-17 15:19:13  \n",
       "4            step_3  2017-04-17 15:18:04  \n",
       "...             ...                  ...  \n",
       "412259        start  2017-05-24 18:46:10  \n",
       "412260        start  2017-05-24 18:45:29  \n",
       "412261       step_1  2017-05-24 18:44:51  \n",
       "412262        start  2017-05-24 18:44:34  \n",
       "412263        start  2017-06-03 12:17:09  \n",
       "\n",
       "[755405 rows x 5 columns]"
      ]
     },
     "metadata": {},
     "output_type": "display_data"
    }
   ],
   "source": [
    "df1 = pd.merge(df_exp_clients, df_demo, how = 'outer', on = 'client_id') # outer to keep the 15 empty values in case of\n",
    "df2 = pd.concat([df_data_pt_1, df_data_pt_2])\n",
    "display(df1)\n",
    "display(df2)"
   ]
  },
  {
   "cell_type": "markdown",
   "id": "20a54b0f",
   "metadata": {},
   "source": [
    "*** Data Cleaning *** \n",
    "Checking for null values or columns to drop, A & B; removing duplicates"
   ]
  },
  {
   "cell_type": "code",
   "execution_count": 10,
   "id": "2c91b40f",
   "metadata": {},
   "outputs": [],
   "source": [
    "df2 = df2.drop_duplicates().reset_index(drop = True) # removing the duplicates\n"
   ]
  },
  {
   "cell_type": "code",
   "execution_count": 11,
   "id": "3defcc1a",
   "metadata": {},
   "outputs": [
    {
     "data": {
      "text/plain": [
       "client_id           70609\n",
       "Variation               2\n",
       "clnt_tenure_yr         54\n",
       "clnt_tenure_mnth      482\n",
       "clnt_age              165\n",
       "gendr                   4\n",
       "num_accts               8\n",
       "bal                 70328\n",
       "calls_6_mnth            8\n",
       "logons_6_mnth           9\n",
       "dtype: int64"
      ]
     },
     "metadata": {},
     "output_type": "display_data"
    },
    {
     "data": {
      "text/plain": [
       "client_id           70609\n",
       "Variation               3\n",
       "clnt_tenure_yr         55\n",
       "clnt_tenure_mnth      483\n",
       "clnt_age              166\n",
       "gendr                   5\n",
       "num_accts               9\n",
       "bal                 70329\n",
       "calls_6_mnth            9\n",
       "logons_6_mnth          10\n",
       "dtype: int64"
      ]
     },
     "execution_count": 11,
     "metadata": {},
     "output_type": "execute_result"
    }
   ],
   "source": [
    "display(df1.nunique()) # checking if the columns should be categorical or numerical, and checking if there are Nas\n",
    "df1.nunique(dropna=False)"
   ]
  },
  {
   "cell_type": "code",
   "execution_count": 12,
   "id": "88ebcb2f",
   "metadata": {},
   "outputs": [
    {
     "data": {
      "text/plain": [
       "client_id       120157\n",
       "visitor_id      130236\n",
       "visit_id        158095\n",
       "process_step         5\n",
       "date_time       629363\n",
       "dtype: int64"
      ]
     },
     "metadata": {},
     "output_type": "display_data"
    },
    {
     "data": {
      "text/plain": [
       "client_id       120157\n",
       "visitor_id      130236\n",
       "visit_id        158095\n",
       "process_step         5\n",
       "date_time       629363\n",
       "dtype: int64"
      ]
     },
     "execution_count": 12,
     "metadata": {},
     "output_type": "execute_result"
    }
   ],
   "source": [
    "display(df2.nunique()) # checking if the columns should be categorical or numerical, and checking if there are Nas\n",
    "df2.nunique(dropna=False)"
   ]
  },
  {
   "cell_type": "code",
   "execution_count": 13,
   "id": "32fd3a10",
   "metadata": {},
   "outputs": [
    {
     "data": {
      "text/plain": [
       "process_step\n",
       "start      234999\n",
       "step_1     162797\n",
       "step_2     132750\n",
       "step_3     111589\n",
       "confirm    102506\n",
       "Name: count, dtype: int64"
      ]
     },
     "execution_count": 13,
     "metadata": {},
     "output_type": "execute_result"
    }
   ],
   "source": [
    "numerical_df1 = ['clnt_tenure_yr','clnt_tenure_mnth','clnt_age', 'bal']\n",
    "categorical_df1= ['client_id', 'Variation', 'gendr', 'num_accts', 'calls_6_mnth', 'logons_6_mnth']\n",
    "\n",
    "df2.process_step.value_counts()"
   ]
  },
  {
   "cell_type": "markdown",
   "id": "ed843c7e",
   "metadata": {},
   "source": [
    "*** Univariate Analysis ***\n",
    "** Categorical Variables **\n",
    "* Frequency Tables, Countplots or Bar charts *"
   ]
  },
  {
   "cell_type": "code",
   "execution_count": 18,
   "id": "8ea63dc4",
   "metadata": {},
   "outputs": [],
   "source": [
    "def cat_stats(df, column):\n",
    "    \"\"\"Function to generate the statistical data for categorical columns\"\"\"\n",
    "    print(f'****** Brief analysis of {column} *****')\n",
    "    frequency_table = df[column].value_counts()\n",
    "    # Calculating the proportion of each unique value \n",
    "    proportion_table = df[column].value_counts(normalize=True)\n",
    "    display(frequency_table, proportion_table)\n",
    "      \n",
    "    mode_col = df[column].mode()\n",
    "    display(f'mode = {mode_col}')\n",
    "          \n",
    "    # Plotting a count plot for the 'MSZoning' column from the dataframe 'df', using the \"Set3\" palette for coloring\n",
    "    sns.countplot(data=df, x= column, palette=\"Set1\")\n",
    "    plt.show() "
   ]
  },
  {
   "cell_type": "code",
   "execution_count": 19,
   "id": "02a539b2",
   "metadata": {},
   "outputs": [
    {
     "name": "stdout",
     "output_type": "stream",
     "text": [
      "****** Brief analysis of Variation *****\n"
     ]
    },
    {
     "data": {
      "text/plain": [
       "Variation\n",
       "Test       26968\n",
       "Control    23532\n",
       "Name: count, dtype: int64"
      ]
     },
     "metadata": {},
     "output_type": "display_data"
    },
    {
     "data": {
      "text/plain": [
       "Variation\n",
       "Test       0.53402\n",
       "Control    0.46598\n",
       "Name: proportion, dtype: float64"
      ]
     },
     "metadata": {},
     "output_type": "display_data"
    },
    {
     "data": {
      "text/plain": [
       "'mode = 0    Test\\nName: Variation, dtype: object'"
      ]
     },
     "metadata": {},
     "output_type": "display_data"
    },
    {
     "data": {
      "image/png": "[encoded data removed]",
      "text/plain": [
       "<Figure size 640x480 with 1 Axes>"
      ]
     },
     "metadata": {},
     "output_type": "display_data"
    },
    {
     "name": "stdout",
     "output_type": "stream",
     "text": [
      "****** Brief analysis of gendr *****\n"
     ]
    },
    {
     "data": {
      "text/plain": [
       "gendr\n",
       "U    24122\n",
       "M    23724\n",
       "F    22746\n",
       "X        3\n",
       "Name: count, dtype: int64"
      ]
     },
     "metadata": {},
     "output_type": "display_data"
    },
    {
     "data": {
      "text/plain": [
       "gendr\n",
       "U    0.341696\n",
       "M    0.336058\n",
       "F    0.322204\n",
       "X    0.000042\n",
       "Name: proportion, dtype: float64"
      ]
     },
     "metadata": {},
     "output_type": "display_data"
    },
    {
     "data": {
      "text/plain": [
       "'mode = 0    U\\nName: gendr, dtype: object'"
      ]
     },
     "metadata": {},
     "output_type": "display_data"
    },
    {
     "data": {
      "image/png": "[encoded data removed]",
      "text/plain": [
       "<Figure size 640x480 with 1 Axes>"
      ]
     },
     "metadata": {},
     "output_type": "display_data"
    },
    {
     "name": "stdout",
     "output_type": "stream",
     "text": [
      "****** Brief analysis of num_accts *****\n"
     ]
    },
    {
     "data": {
      "text/plain": [
       "num_accts\n",
       "2.0    55497\n",
       "3.0    12529\n",
       "4.0     2241\n",
       "5.0      284\n",
       "6.0       33\n",
       "7.0        8\n",
       "1.0        2\n",
       "8.0        1\n",
       "Name: count, dtype: int64"
      ]
     },
     "metadata": {},
     "output_type": "display_data"
    },
    {
     "data": {
      "text/plain": [
       "num_accts\n",
       "2.0    0.786132\n",
       "3.0    0.177477\n",
       "4.0    0.031744\n",
       "5.0    0.004023\n",
       "6.0    0.000467\n",
       "7.0    0.000113\n",
       "1.0    0.000028\n",
       "8.0    0.000014\n",
       "Name: proportion, dtype: float64"
      ]
     },
     "metadata": {},
     "output_type": "display_data"
    },
    {
     "data": {
      "text/plain": [
       "'mode = 0    2.0\\nName: num_accts, dtype: float64'"
      ]
     },
     "metadata": {},
     "output_type": "display_data"
    },
    {
     "data": {
      "image/png": "[encoded data removed]",
      "text/plain": [
       "<Figure size 640x480 with 1 Axes>"
      ]
     },
     "metadata": {},
     "output_type": "display_data"
    },
    {
     "name": "stdout",
     "output_type": "stream",
     "text": [
      "****** Brief analysis of calls_6_mnth *****\n"
     ]
    },
    {
     "data": {
      "text/plain": [
       "calls_6_mnth\n",
       "6.0    14112\n",
       "1.0    11016\n",
       "2.0    10252\n",
       "3.0     8752\n",
       "0.0     7732\n",
       "4.0     7175\n",
       "5.0     6627\n",
       "7.0     4929\n",
       "Name: count, dtype: int64"
      ]
     },
     "metadata": {},
     "output_type": "display_data"
    },
    {
     "data": {
      "text/plain": [
       "calls_6_mnth\n",
       "6.0    0.199901\n",
       "1.0    0.156045\n",
       "2.0    0.145223\n",
       "3.0    0.123975\n",
       "0.0    0.109526\n",
       "4.0    0.101636\n",
       "5.0    0.093874\n",
       "7.0    0.069821\n",
       "Name: proportion, dtype: float64"
      ]
     },
     "metadata": {},
     "output_type": "display_data"
    },
    {
     "data": {
      "text/plain": [
       "'mode = 0    6.0\\nName: calls_6_mnth, dtype: float64'"
      ]
     },
     "metadata": {},
     "output_type": "display_data"
    },
    {
     "data": {
      "image/png": "[encoded data removed]",
      "text/plain": [
       "<Figure size 640x480 with 1 Axes>"
      ]
     },
     "metadata": {},
     "output_type": "display_data"
    },
    {
     "name": "stdout",
     "output_type": "stream",
     "text": [
      "****** Brief analysis of logons_6_mnth *****\n"
     ]
    },
    {
     "data": {
      "text/plain": [
       "logons_6_mnth\n",
       "9.0    12350\n",
       "3.0    10243\n",
       "4.0    10220\n",
       "7.0     9893\n",
       "5.0     9254\n",
       "6.0     7878\n",
       "8.0     4810\n",
       "2.0     3009\n",
       "1.0     2938\n",
       "Name: count, dtype: int64"
      ]
     },
     "metadata": {},
     "output_type": "display_data"
    },
    {
     "data": {
      "text/plain": [
       "logons_6_mnth\n",
       "9.0    0.174942\n",
       "3.0    0.145095\n",
       "4.0    0.144769\n",
       "7.0    0.140137\n",
       "5.0    0.131086\n",
       "6.0    0.111594\n",
       "8.0    0.068135\n",
       "2.0    0.042623\n",
       "1.0    0.041618\n",
       "Name: proportion, dtype: float64"
      ]
     },
     "metadata": {},
     "output_type": "display_data"
    },
    {
     "data": {
      "text/plain": [
       "'mode = 0    9.0\\nName: logons_6_mnth, dtype: float64'"
      ]
     },
     "metadata": {},
     "output_type": "display_data"
    },
    {
     "data": {
      "image/png": "[encoded data removed]",
      "text/plain": [
       "<Figure size 640x480 with 1 Axes>"
      ]
     },
     "metadata": {},
     "output_type": "display_data"
    }
   ],
   "source": [
    "numerical_df1 = ['clnt_tenure_yr','clnt_tenure_mnth','clnt_age', 'bal']\n",
    "categorical_df1= ['Variation', 'gendr', 'num_accts', 'calls_6_mnth', 'logons_6_mnth'] # removed client_id that was not relevant\n",
    "\n",
    "for col in categorical_df1:\n",
    "    cat_stats(df1, col)  "
   ]
  },
  {
   "cell_type": "code",
   "execution_count": null,
   "id": "5a0dd9ce",
   "metadata": {},
   "outputs": [],
   "source": [
    "#### Our comments column per column\n",
    "# Variation: 50K values, 53 and 47%\n",
    "# Gender: 4 unique values, X is likely to be U = unknown\n",
    "# Number of accounts: 2-3-4 are close to 100%\n",
    "# Freq of calls over 6 mths: no comments\n",
    "# Number of connections for 6 months: no comments"
   ]
  },
  {
   "cell_type": "markdown",
   "id": "92cacd69",
   "metadata": {},
   "source": [
    "** Numerical Variables **\n",
    "* Summary Statistics - Centrality and Dispersion Measures / Shape of distribution / boxplots*"
   ]
  },
  {
   "cell_type": "code",
   "execution_count": 20,
   "id": "5a87fede",
   "metadata": {},
   "outputs": [],
   "source": [
    "def num_stats(df, column):\n",
    "    \"\"\"Function to generate the statistical data for numerical columns à la describe with mode in addition\"\"\"\n",
    "    print(f'****** Brief Analysis of {column} *****')\n",
    "          \n",
    "    mean_col = df[column].mean().round()\n",
    "    median_col = df[column].median()\n",
    "    mode_col = df[column].mode()[0]\n",
    "    variance_col = round(df[column].var(),2)\n",
    "    std_dev_col = round(df[column].std(),2)\n",
    "    min_col = df[column].min()\n",
    "    max_col = df[column].max()\n",
    "    range_col = max_col - min_col\n",
    "    quantiles_col = df[column].quantile([0.25, 0.5, 0.75])\n",
    "\n",
    "    print(f'mean= {mean_col}, median= {median_col}, mode= {mode_col}')\n",
    "    print(f'var = {variance_col}, std_dev = {std_dev_col}, min = {min_col}, max = {max_col}, range = {range_col}')\n",
    "    print(f'quantiles : \\n{quantiles_col}')\n",
    "    \n",
    "    # Plotting a histogram for the column of the 'data' dataframe\n",
    "    # 'bins=30' divides the data into 30 bins for more detailed granularity\n",
    "    sns.histplot(df[column], kde=True, bins=30, color=\"blue\")\n",
    "    plt.show()  # to show the plot as it goes!\n",
    "    sns.boxplot(data = df[column], color=\"lightgreen\")\n",
    "    plt.show()  # to show the plot as it goes!\n",
    "    "
   ]
  },
  {
   "cell_type": "code",
   "execution_count": 21,
   "id": "c85d5208",
   "metadata": {},
   "outputs": [
    {
     "name": "stdout",
     "output_type": "stream",
     "text": [
      "****** Brief Analysis of clnt_tenure_yr *****\n",
      "mean= 12.0, median= 11.0, mode= 6.0\n",
      "var = 47.22, std_dev = 6.87, min = 2.0, max = 62.0, range = 60.0\n",
      "quantiles : \n",
      "0.25     6.0\n",
      "0.50    11.0\n",
      "0.75    16.0\n",
      "Name: clnt_tenure_yr, dtype: float64\n"
     ]
    },
    {
     "data": {
      "image/png": "[encoded data removed]",
      "text/plain": [
       "<Figure size 640x480 with 1 Axes>"
      ]
     },
     "metadata": {},
     "output_type": "display_data"
    },
    {
     "data": {
      "image/png": "[encoded data removed]",
      "text/plain": [
       "<Figure size 640x480 with 1 Axes>"
      ]
     },
     "metadata": {},
     "output_type": "display_data"
    },
    {
     "name": "stdout",
     "output_type": "stream",
     "text": [
      "****** Brief Analysis of clnt_tenure_mnth *****\n",
      "mean= 151.0, median= 136.0, mode= 58.0\n",
      "var = 6738.74, std_dev = 82.09, min = 33.0, max = 749.0, range = 716.0\n",
      "quantiles : \n",
      "0.25     82.0\n",
      "0.50    136.0\n",
      "0.75    192.0\n",
      "Name: clnt_tenure_mnth, dtype: float64\n"
     ]
    },
    {
     "data": {
      "image/png": "[encoded data removed]",
      "text/plain": [
       "<Figure size 640x480 with 1 Axes>"
      ]
     },
     "metadata": {},
     "output_type": "display_data"
    },
    {
     "data": {
      "image/png": "[encoded data removed]",
      "text/plain": [
       "<Figure size 640x480 with 1 Axes>"
      ]
     },
     "metadata": {},
     "output_type": "display_data"
    },
    {
     "name": "stdout",
     "output_type": "stream",
     "text": [
      "****** Brief Analysis of clnt_age *****\n",
      "mean= 46.0, median= 47.0, mode= 58.5\n",
      "var = 243.09, std_dev = 15.59, min = 13.5, max = 96.0, range = 82.5\n",
      "quantiles : \n",
      "0.25    32.5\n",
      "0.50    47.0\n",
      "0.75    59.0\n",
      "Name: clnt_age, dtype: float64\n"
     ]
    },
    {
     "data": {
      "image/png": "[encoded data removed]",
      "text/plain": [
       "<Figure size 640x480 with 1 Axes>"
      ]
     },
     "metadata": {},
     "output_type": "display_data"
    },
    {
     "data": {
      "image/png": "[encoded data removed]",
      "text/plain": [
       "<Figure size 640x480 with 1 Axes>"
      ]
     },
     "metadata": {},
     "output_type": "display_data"
    },
    {
     "name": "stdout",
     "output_type": "stream",
     "text": [
      "****** Brief Analysis of bal *****\n",
      "mean= 147445.0, median= 63332.9, mode= 31188.62\n",
      "var = 90907500113.94, std_dev = 301508.71, min = 13789.419999999998, max = 16320040.15, range = 16306250.73\n",
      "quantiles : \n",
      "0.25     37346.835\n",
      "0.50     63332.900\n",
      "0.75    137544.905\n",
      "Name: bal, dtype: float64\n"
     ]
    },
    {
     "data": {
      "image/png": "[encoded data removed]",
      "text/plain": [
       "<Figure size 640x480 with 1 Axes>"
      ]
     },
     "metadata": {},
     "output_type": "display_data"
    },
    {
     "data": {
      "image/png": "[encoded data removed]",
      "text/plain": [
       "<Figure size 640x480 with 1 Axes>"
      ]
     },
     "metadata": {},
     "output_type": "display_data"
    }
   ],
   "source": [
    "for col in numerical_df1:\n",
    "    num_stats(df1, col)"
   ]
  },
  {
   "cell_type": "code",
   "execution_count": null,
   "id": "e1d64cd9",
   "metadata": {},
   "outputs": [],
   "source": [
    "#### Our comments column per column\n",
    "# Client tenure: outliers above 36 years?, skewed right\n",
    "# Client age: seems like two modes...(2 peaks), no outliers,\n",
    "# balance: there are some millionaires that skew the data to the right, we might clean the very high values\n",
    "# mode, median and mean are respectively 31K, 63K, 147K"
   ]
  },
  {
   "cell_type": "markdown",
   "id": "5227c046",
   "metadata": {},
   "source": [
    "* Additional Visualisation * (more histograms)"
   ]
  },
  {
   "cell_type": "code",
   "execution_count": 22,
   "id": "201dcc53",
   "metadata": {},
   "outputs": [
    {
     "data": {
      "image/png": "[encoded data removed]",
      "text/plain": [
       "<Figure size 600x600 with 4 Axes>"
      ]
     },
     "metadata": {},
     "output_type": "display_data"
    }
   ],
   "source": [
    "# Creating histograms for each numerical column in 'df1 numerical'\n",
    "df1[numerical_df1].hist(figsize=(6, 6), bins=60, xlabelsize=10, ylabelsize=10); # makes it automatically to fit the figure!"
   ]
  },
  {
   "cell_type": "code",
   "execution_count": 23,
   "id": "ca7f69d4",
   "metadata": {},
   "outputs": [],
   "source": [
    "#### Our comments column per column"
   ]
  },
  {
   "cell_type": "code",
   "execution_count": 24,
   "id": "574b1383",
   "metadata": {},
   "outputs": [],
   "source": [
    "# client_id\tvisitor_id\tvisit_id\tprocess_step\tdate_time\n",
    "categorical_df2= ['process_step'] # removed ['visitor_id', 'visit_id'] and client_id\n"
   ]
  },
  {
   "cell_type": "code",
   "execution_count": 25,
   "id": "4aa60c4b",
   "metadata": {},
   "outputs": [
    {
     "name": "stdout",
     "output_type": "stream",
     "text": [
      "****** Brief analysis of process_step *****\n"
     ]
    },
    {
     "data": {
      "text/plain": [
       "process_step\n",
       "start      234999\n",
       "step_1     162797\n",
       "step_2     132750\n",
       "step_3     111589\n",
       "confirm    102506\n",
       "Name: count, dtype: int64"
      ]
     },
     "metadata": {},
     "output_type": "display_data"
    },
    {
     "data": {
      "text/plain": [
       "process_step\n",
       "start      0.315587\n",
       "step_1     0.218625\n",
       "step_2     0.178274\n",
       "step_3     0.149856\n",
       "confirm    0.137658\n",
       "Name: proportion, dtype: float64"
      ]
     },
     "metadata": {},
     "output_type": "display_data"
    },
    {
     "data": {
      "text/plain": [
       "'mode = 0    start\\nName: process_step, dtype: object'"
      ]
     },
     "metadata": {},
     "output_type": "display_data"
    },
    {
     "data": {
      "image/png": "[encoded data removed]",
      "text/plain": [
       "<Figure size 640x480 with 1 Axes>"
      ]
     },
     "metadata": {},
     "output_type": "display_data"
    }
   ],
   "source": [
    "for col in categorical_df2:\n",
    "    cat_stats(df2, col) "
   ]
  },
  {
   "cell_type": "code",
   "execution_count": null,
   "id": "c753657e",
   "metadata": {},
   "outputs": [],
   "source": [
    "#### Our comments column per column\n",
    "# process_step: to analyse further taking variation into account and the ratios from one step to the other\n",
    "# overall only 50% confirm what they have started!"
   ]
  },
  {
   "cell_type": "code",
   "execution_count": 58,
   "id": "7c5a5403",
   "metadata": {},
   "outputs": [],
   "source": [
    "# * Converting continuous to discrete variables: Discretization * (if needed)   "
   ]
  },
  {
   "cell_type": "code",
   "execution_count": null,
   "id": "cfd19732",
   "metadata": {},
   "outputs": [],
   "source": [
    "# EXAMPLE NOT TO RUN YET => for dates, ages? IDEA for dates see if there are more confirm later on in the process...??\n",
    "\n",
    "# Discretizing 'SalePrice' into 4 categories\n",
    "bins = [0, 100000, 200000, 300000, df['SalePrice'].max()] # we define the sizes of the bins\n",
    "labels = ['Low', 'Medium', 'High', 'Very High']\n",
    "df['SalePrice_category'] = pd.cut(df['SalePrice'], bins=bins, labels=labels, include_lowest=True)\n",
    "\n",
    "# or via quartiles (for the dates?)\n",
    "# Discretizing 'SalePrice' into quartiles\n",
    "df['SalePrice_quantile'] = pd.qcut(df['SalePrice'], q=4, labels=['Q1', 'Q2', 'Q3', 'Q4'])\n",
    "\n",
    "df.SalePrice_category.value_counts()\n"
   ]
  },
  {
   "cell_type": "code",
   "execution_count": null,
   "id": "612ea7aa",
   "metadata": {},
   "outputs": [],
   "source": []
  },
  {
   "cell_type": "code",
   "execution_count": null,
   "id": "c4f3cdf9",
   "metadata": {},
   "outputs": [],
   "source": [
    "# Exporting to my_sql if needed (to make a function if time)"
   ]
  },
  {
   "cell_type": "code",
   "execution_count": 44,
   "id": "c698ec4c",
   "metadata": {},
   "outputs": [],
   "source": [
    "from sqlalchemy import create_engine \n",
    "import pymysql.cursors\n",
    "import os\n",
    "# import getpass\n",
    "import urllib.parse\n",
    "\n",
    "\n",
    "urllib.parse.quote_plus('!') # parse to 'remove-change' the weird characters in our password, here it is '!'\n",
    "urllib.parse.quote_plus('é')\n",
    "pw_raw = 'Alsimar10' # os.getenv('mysql_andy') # I had to put my.sql password\n",
    "pw = urllib.parse.quote_plus(pw_raw)\n",
    "\n",
    "#engine = sqlalchemy.create_engine(f\"mysql://{username}:{password}@{host}:{port}\")\n",
    "\n",
    "connection_string = 'mysql+pymysql://root:' + pw + '@localhost:3306/' # we connect to our computer, if we connect to a company\n",
    "                     # this is the driver                             # data base, then we need an IP address\n",
    "engine = create_engine(connection_string)\n",
    "\n",
    "with engine.connect() as conn:                                   # we are creating an alias\n",
    "    conn.execute(f\"CREATE DATABASE IF NOT EXISTS vanguard\") # we are creating a new name of database \"vanguard\""
   ]
  },
  {
   "cell_type": "code",
   "execution_count": 45,
   "id": "59ff578b",
   "metadata": {},
   "outputs": [
    {
     "data": {
      "text/plain": [
       "755405"
      ]
     },
     "execution_count": 45,
     "metadata": {},
     "output_type": "execute_result"
    }
   ],
   "source": [
    "df1.to_sql('df1',engine, 'vanguard', if_exists='replace', index=False) # 'pushing' the data\n",
    "df2.to_sql('df2',engine, 'vanguard', if_exists='replace', index=False) # 'pushing' the data"
   ]
  },
  {
   "cell_type": "code",
   "execution_count": null,
   "id": "3df8f1fc",
   "metadata": {},
   "outputs": [],
   "source": [
    "# Function to analyse the four data files and see how to merge them before clean up\n",
    "\n",
    "def first_analysis(dataf):\n",
    "    \"\"\"Analyses briefly a DataFrame, displays, head, columns, shape, dtypes and checks on the null values\"\"\"\n",
    "    display(dataf.head())\n",
    "    display(dataf.columns)\n",
    "    display(f'shape: {dataf.shape}')\n",
    "    display(dataf.dtypes)\n",
    "    print(f'Looking for null values: \\n{dataf.isnull().sum().sort_values(ascending=False)}')"
   ]
  },
  {
   "cell_type": "code",
   "execution_count": null,
   "id": "a745b50c",
   "metadata": {},
   "outputs": [],
   "source": [
    "def num_stats(df, column):\n",
    "    \"\"\"Function to generate the statistical data for numerical columns à la describe with mode in addition\"\"\"\n",
    "    print(f'****** Brief Analysis of {column} *****')\n",
    "          \n",
    "    mean_col = df[column].mean().round()\n",
    "    median_col = df[column].median()\n",
    "    mode_col = df[column].mode()[0]\n",
    "    variance_col = round(df[column].var(),2)\n",
    "    std_dev_col = round(df[column].std(),2)\n",
    "    min_col = df[column].min()\n",
    "    max_col = df[column].max()\n",
    "    range_col = max_col - min_col\n",
    "    quantiles_col = df[column].quantile([0.25, 0.5, 0.75])\n",
    "\n",
    "    print(f'mean= {mean_col}, median= {median_col}, mode= {mode_col}')\n",
    "    print(f'var = {variance_col}, std_dev = {std_dev_col}, min = {min_col}, max = {max_col}, range = {range_col}')\n",
    "    print(f'quantiles : \\n{quantiles_col}')\n",
    "    \n",
    "    # Plotting a histogram for the column of the 'data' dataframe\n",
    "    # 'bins=30' divides the data into 30 bins for more detailed granularity\n",
    "    sns.histplot(df[column], kde=True, bins=30, color=\"blue\")\n",
    "    plt.show()  # to show the plot as it goes!\n",
    "    sns.boxplot(data = df[column], color=\"lightgreen\")\n",
    "    plt.show()  # to show the plot as it goes!"
   ]
  },
  {
   "cell_type": "code",
   "execution_count": null,
   "id": "9d8dad11",
   "metadata": {},
   "outputs": [],
   "source": [
    "def cat_stats(df, column):\n",
    "    \"\"\"Function to generate the statistical data for categorical columns\"\"\"\n",
    "    print(f'****** Brief analysis of {column} *****')\n",
    "    frequency_table = df[column].value_counts()\n",
    "    # Calculating the proportion of each unique value \n",
    "    proportion_table = df[column].value_counts(normalize=True)\n",
    "    display(frequency_table, proportion_table)\n",
    "      \n",
    "    mode_col = df[column].mode()\n",
    "    display(f'mode = {mode_col}')\n",
    "          \n",
    "    # Plotting a count plot for the 'MSZoning' column from the dataframe 'df', using the \"Set3\" palette for coloring\n",
    "    sns.countplot(data=df, x= column, palette=\"Set1\")\n",
    "    plt.show() "
   ]
  }
 ],
 "metadata": {
  "kernelspec": {
   "display_name": "Python 3 (ipykernel)",
   "language": "python",
   "name": "python3"
  },
  "language_info": {
   "codemirror_mode": {
    "name": "ipython",
    "version": 3
   },
   "file_extension": ".py",
   "mimetype": "text/x-python",
   "name": "python",
   "nbconvert_exporter": "python",
   "pygments_lexer": "ipython3",
   "version": "3.11.5"
  }
 },
 "nbformat": 4,
 "nbformat_minor": 5
}
